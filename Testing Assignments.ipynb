{
 "cells": [
  {
   "cell_type": "code",
   "execution_count": 36,
   "metadata": {},
   "outputs": [
    {
     "name": "stdout",
     "output_type": "stream",
     "text": [
      "jp -> storage\n",
      "jameson -> auth\n",
      "david -> predictions\n",
      "rafael -> analytics\n",
      "raphael -> datastore\n",
      "richard -> api\n"
     ]
    }
   ],
   "source": [
    "from random import choice\n",
    "\n",
    "# Maps people to categories they have worked on extensively and should not\n",
    "# be assigned to test. (e.g. David shouldn't test Auth)\n",
    "people = {'jp': set(), 'jameson': {'datastore'}, 'david': {'auth'},\n",
    "          'rafael': set(), 'raphael': {'predictions'}, 'richard': set()}\n",
    "categories = {'datastore', 'api', 'analytics', 'predictions', 'storage', 'auth'}\n",
    "assigned = set()\n",
    "\n",
    "for person, ineligible in people.items():\n",
    "    category = choice(tuple(categories - ineligible - assigned))\n",
    "    assigned.add(category)\n",
    "    print(' -> '.join((person, category)))"
   ]
  }
 ],
 "metadata": {
  "kernelspec": {
   "display_name": "Python 3",
   "language": "python",
   "name": "python3"
  },
  "language_info": {
   "codemirror_mode": {
    "name": "ipython",
    "version": 3
   },
   "file_extension": ".py",
   "mimetype": "text/x-python",
   "name": "python",
   "nbconvert_exporter": "python",
   "pygments_lexer": "ipython3",
   "version": "3.8.2"
  }
 },
 "nbformat": 4,
 "nbformat_minor": 4
}
