{
 "cells": [
  {
   "cell_type": "code",
   "execution_count": 1,
   "metadata": {},
   "outputs": [],
   "source": [
    "# SecureString parameter stored in AWS System Manager that holds a GitHub personal access token.\n",
    "parameter_name = 'github_token'\n",
    "\n",
    "# Organization names that contain members considered employees.\n",
    "organization_names = ['aws', 'awslabs', 'aws-amplify', 'aws-samples']\n",
    "\n",
    "# Repositories for which reports will be generated.\n",
    "repo_names = ['aws-amplify/amplify-android',\n",
    "              'aws-amplify/aws-sdk-android',\n",
    "              'awslabs/aws-mobile-appsync-sdk-android']"
   ]
  },
  {
   "cell_type": "code",
   "execution_count": 2,
   "metadata": {},
   "outputs": [],
   "source": [
    "# Retrieve the GitHub token from SSM to prevent oops-I-pushed-credentials-to-GitHub uh-ohs.\n",
    "\n",
    "import boto3\n",
    "from github import Github\n",
    "\n",
    "ssm = boto3.client('ssm')\n",
    "response = ssm.get_parameter(Name=parameter_name, WithDecryption=True)\n",
    "token = response['Parameter']['Value']\n",
    "github = Github(token)"
   ]
  },
  {
   "cell_type": "code",
   "execution_count": 3,
   "metadata": {},
   "outputs": [],
   "source": [
    "# Build a set of GitHub handles of employees to later exclude their activity from the report.\n",
    "# TODO: Is this kosher? Perhaps TAMs, SAs, etc are opening issues on behalf of their customers?\n",
    "\n",
    "employees = set()\n",
    "\n",
    "for organization_name in organization_names:\n",
    "    organization = github.get_organization(organization_name)\n",
    "    \n",
    "    for member in organization.get_members():\n",
    "        employees.add(member.login)"
   ]
  },
  {
   "cell_type": "code",
   "execution_count": 4,
   "metadata": {},
   "outputs": [],
   "source": [
    "# Loop through each repository, grab all issues, and create a DataFrame for each.\n",
    "\n",
    "import pandas as pd\n",
    "\n",
    "repos = {}\n",
    "\n",
    "for repo_name in repo_names:\n",
    "    repo = github.get_repo(repo_name)\n",
    "    issues = []\n",
    "\n",
    "    for issue in repo.get_issues(state='all'):\n",
    "        labels = pd.array([label.name for label in issue.labels])\n",
    "        \n",
    "        if issue.pull_request is None and issue.user.login not in employees:\n",
    "            issues.append([labels, issue.created_at, issue.closed_at])\n",
    "        \n",
    "    repos[repo_name] = pd.DataFrame(issues, columns=['labels', 'created_at', 'closed_at'])"
   ]
  },
  {
   "cell_type": "code",
   "execution_count": 5,
   "metadata": {},
   "outputs": [],
   "source": [
    "# Using the DataFrames, process and grab the counts of issues.\n",
    "\n",
    "from datetime import datetime\n",
    "from IPython.display import display, HTML\n",
    "\n",
    "seven_days_ago = datetime.now() - pd.Timedelta('7 days')\n",
    "thirty_days_ago = datetime.now() - pd.Timedelta('30 days')\n",
    "\n",
    "open_counts = []\n",
    "\n",
    "for repo_name in repo_names:\n",
    "    r = repos[repo_name]\n",
    "\n",
    "    open_issues = r[~(r.closed_at > '1970-01-01')]\n",
    "    last_week_open_issues = r[(r.created_at < seven_days_ago) & ~(r.closed_at < seven_days_ago)]\n",
    "    last_month_open_issues = r[(r.created_at < thirty_days_ago) & ~(r.closed_at < thirty_days_ago)]\n",
    "    open_issues_count = len(open_issues.index)\n",
    "    last_week_open_issues_count = len(last_week_open_issues.index)\n",
    "    last_month_open_issues_count = len(last_month_open_issues.index)\n",
    "    \n",
    "    open_counts.append([repo_name,\n",
    "                        open_issues_count,\n",
    "                        last_week_open_issues_count,\n",
    "                        open_issues_count - last_week_open_issues_count,\n",
    "                        last_month_open_issues_count,\n",
    "                        open_issues_count - last_month_open_issues_count])\n",
    "\n",
    "\n",
    "open_df = pd.DataFrame(open_counts, columns=['Repo', 'Open', 'Last Week', 'WoW', 'Last Month', 'MoM'])"
   ]
  },
  {
   "cell_type": "code",
   "execution_count": 6,
   "metadata": {},
   "outputs": [
    {
     "data": {
      "text/html": [
       "<em>Generated on 2020-03-08 08:47:04.682865"
      ],
      "text/plain": [
       "<IPython.core.display.HTML object>"
      ]
     },
     "metadata": {},
     "output_type": "display_data"
    },
    {
     "data": {
      "text/html": [
       "<h1>Open Issues</h1>"
      ],
      "text/plain": [
       "<IPython.core.display.HTML object>"
      ]
     },
     "metadata": {},
     "output_type": "display_data"
    },
    {
     "data": {
      "text/html": [
       "<div>\n",
       "<style scoped>\n",
       "    .dataframe tbody tr th:only-of-type {\n",
       "        vertical-align: middle;\n",
       "    }\n",
       "\n",
       "    .dataframe tbody tr th {\n",
       "        vertical-align: top;\n",
       "    }\n",
       "\n",
       "    .dataframe thead th {\n",
       "        text-align: right;\n",
       "    }\n",
       "</style>\n",
       "<table border=\"1\" class=\"dataframe\">\n",
       "  <thead>\n",
       "    <tr style=\"text-align: right;\">\n",
       "      <th></th>\n",
       "      <th>Repo</th>\n",
       "      <th>Open</th>\n",
       "      <th>Last Week</th>\n",
       "      <th>WoW</th>\n",
       "      <th>Last Month</th>\n",
       "      <th>MoM</th>\n",
       "    </tr>\n",
       "  </thead>\n",
       "  <tbody>\n",
       "    <tr>\n",
       "      <th>0</th>\n",
       "      <td>aws-amplify/amplify-android</td>\n",
       "      <td>9</td>\n",
       "      <td>9</td>\n",
       "      <td>0</td>\n",
       "      <td>8</td>\n",
       "      <td>1</td>\n",
       "    </tr>\n",
       "    <tr>\n",
       "      <th>1</th>\n",
       "      <td>aws-amplify/aws-sdk-android</td>\n",
       "      <td>126</td>\n",
       "      <td>126</td>\n",
       "      <td>0</td>\n",
       "      <td>121</td>\n",
       "      <td>5</td>\n",
       "    </tr>\n",
       "    <tr>\n",
       "      <th>2</th>\n",
       "      <td>awslabs/aws-mobile-appsync-sdk-android</td>\n",
       "      <td>42</td>\n",
       "      <td>45</td>\n",
       "      <td>-3</td>\n",
       "      <td>44</td>\n",
       "      <td>-2</td>\n",
       "    </tr>\n",
       "  </tbody>\n",
       "</table>\n",
       "</div>"
      ],
      "text/plain": [
       "                                     Repo  Open  Last Week  WoW  Last Month  \\\n",
       "0             aws-amplify/amplify-android     9          9    0           8   \n",
       "1             aws-amplify/aws-sdk-android   126        126    0         121   \n",
       "2  awslabs/aws-mobile-appsync-sdk-android    42         45   -3          44   \n",
       "\n",
       "   MoM  \n",
       "0    1  \n",
       "1    5  \n",
       "2   -2  "
      ]
     },
     "metadata": {},
     "output_type": "display_data"
    }
   ],
   "source": [
    "# Build the report for display.\n",
    "\n",
    "display(HTML(f'<em>Generated on {datetime.now()}'))\n",
    "display(HTML('<h1>Open Issues</h1>'))\n",
    "display(open_df)"
   ]
  }
 ],
 "metadata": {
  "kernelspec": {
   "display_name": "Python 3",
   "language": "python",
   "name": "python3"
  },
  "language_info": {
   "codemirror_mode": {
    "name": "ipython",
    "version": 3
   },
   "file_extension": ".py",
   "mimetype": "text/x-python",
   "name": "python",
   "nbconvert_exporter": "python",
   "pygments_lexer": "ipython3",
   "version": "3.7.6"
  }
 },
 "nbformat": 4,
 "nbformat_minor": 2
}
